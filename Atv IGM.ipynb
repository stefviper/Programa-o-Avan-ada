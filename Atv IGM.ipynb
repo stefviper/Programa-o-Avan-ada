{
 "cells": [
  {
   "cell_type": "markdown",
   "metadata": {},
   "source": [
    "#### Centro Universitário Instituto de Educação Superior de Brasília.\n",
    "#### Ciência de Dados e Inteligência Artificial: Programação Avançada de Computadores.\n",
    "#### Professor: Marcos Guimarães.\n",
    "#### Aluna: Stéfanie V. I. Pereira.\n",
    "#### Matrícula: 1812120012."
   ]
  },
  {
   "cell_type": "markdown",
   "metadata": {},
   "source": [
    "\n",
    "# IGM - Índice de Governança Municipal\n",
    "\n",
    "### Análise dos Dados IGM [em desenvolvimento]\n",
    "Com base no arquivo XLSX (formato Excel), será feita a analise dos dados referentes aos municípios brasileiros até o ano de 2017.\n",
    "\n",
    "Dados obtidos no site:\n",
    "    http://www.igm.cfa.org.br/downloads -> DADOS IGM-CFA 2017\n",
    "\n",
    "Arquivo:\n",
    "    dados_IGM-CFA_2017.xlsx\n",
    "\n"
   ]
  },
  {
   "cell_type": "code",
   "execution_count": 1,
   "metadata": {},
   "outputs": [],
   "source": [
    "# Criar pasta(repositorio) no Github, colocar os arquivos com o arquivo do jupter + o banco de dados.\n",
    "# Produzir um relatorio sobre a analise destes dados.\n",
    "# Para os dados em diferentes planilhas (excell), criar um dataframe para\n",
    "# cada planilha e depois utilizar o merge para uni-los."
   ]
  },
  {
   "cell_type": "code",
   "execution_count": 2,
   "metadata": {},
   "outputs": [],
   "source": [
    "# Importando as bibliotecas\n",
    "import pandas as pd"
   ]
  },
  {
   "cell_type": "code",
   "execution_count": 3,
   "metadata": {},
   "outputs": [
    {
     "data": {
      "text/html": [
       "<div>\n",
       "<style scoped>\n",
       "    .dataframe tbody tr th:only-of-type {\n",
       "        vertical-align: middle;\n",
       "    }\n",
       "\n",
       "    .dataframe tbody tr th {\n",
       "        vertical-align: top;\n",
       "    }\n",
       "\n",
       "    .dataframe thead th {\n",
       "        text-align: right;\n",
       "    }\n",
       "</style>\n",
       "<table border=\"1\" class=\"dataframe\">\n",
       "  <thead>\n",
       "    <tr style=\"text-align: right;\">\n",
       "      <th></th>\n",
       "      <th>0</th>\n",
       "      <th>1</th>\n",
       "      <th>2</th>\n",
       "      <th>3</th>\n",
       "      <th>4</th>\n",
       "      <th>5</th>\n",
       "      <th>6</th>\n",
       "      <th>7</th>\n",
       "      <th>8</th>\n",
       "      <th>9</th>\n",
       "    </tr>\n",
       "  </thead>\n",
       "  <tbody>\n",
       "    <tr>\n",
       "      <th>0</th>\n",
       "      <td>Estado</td>\n",
       "      <td>Nome</td>\n",
       "      <td>Porte do Município</td>\n",
       "      <td>População 2016 (IBGE)</td>\n",
       "      <td>Violência - 2017</td>\n",
       "      <td>Vulnerabilidade - 2017</td>\n",
       "      <td>Atendimento Médico - 2017</td>\n",
       "      <td>Educação - 2017</td>\n",
       "      <td>Mortalidade Infantil - 2017</td>\n",
       "      <td>IDHM - 2017</td>\n",
       "    </tr>\n",
       "    <tr>\n",
       "      <th>1</th>\n",
       "      <td>SP</td>\n",
       "      <td>SAO BERNARDO DO CAMPO</td>\n",
       "      <td>Grande porte</td>\n",
       "      <td>822242</td>\n",
       "      <td>0.915335</td>\n",
       "      <td>0.896793</td>\n",
       "      <td>0.099539</td>\n",
       "      <td>0.761786</td>\n",
       "      <td>0.882146</td>\n",
       "      <td>0.863962</td>\n",
       "    </tr>\n",
       "    <tr>\n",
       "      <th>2</th>\n",
       "      <td>PR</td>\n",
       "      <td>ITAIPULANDIA</td>\n",
       "      <td>Pequeno porte 1</td>\n",
       "      <td>10413</td>\n",
       "      <td>0.715384</td>\n",
       "      <td>0.918239</td>\n",
       "      <td>0.392003</td>\n",
       "      <td>0.723482</td>\n",
       "      <td>0.915741</td>\n",
       "      <td>0.704057</td>\n",
       "    </tr>\n",
       "    <tr>\n",
       "      <th>3</th>\n",
       "      <td>RJ</td>\n",
       "      <td>NITEROI</td>\n",
       "      <td>Grande porte</td>\n",
       "      <td>497883</td>\n",
       "      <td>0.85561</td>\n",
       "      <td>0.909865</td>\n",
       "      <td>0.181257</td>\n",
       "      <td>0.763024</td>\n",
       "      <td>0.880249</td>\n",
       "      <td>0.940334</td>\n",
       "    </tr>\n",
       "    <tr>\n",
       "      <th>4</th>\n",
       "      <td>SP</td>\n",
       "      <td>INDAIATUBA</td>\n",
       "      <td>Grande porte</td>\n",
       "      <td>235367</td>\n",
       "      <td>0.937617</td>\n",
       "      <td>0.935564</td>\n",
       "      <td>0.178164</td>\n",
       "      <td>0.758198</td>\n",
       "      <td>0.867787</td>\n",
       "      <td>0.823389</td>\n",
       "    </tr>\n",
       "  </tbody>\n",
       "</table>\n",
       "</div>"
      ],
      "text/plain": [
       "        0                      1                   2                      3  \\\n",
       "0  Estado                   Nome  Porte do Município  População 2016 (IBGE)   \n",
       "1      SP  SAO BERNARDO DO CAMPO        Grande porte                 822242   \n",
       "2      PR           ITAIPULANDIA     Pequeno porte 1                  10413   \n",
       "3      RJ                NITEROI        Grande porte                 497883   \n",
       "4      SP             INDAIATUBA        Grande porte                 235367   \n",
       "\n",
       "                  4                       5                          6  \\\n",
       "0  Violência - 2017  Vulnerabilidade - 2017  Atendimento Médico - 2017   \n",
       "1          0.915335                0.896793                   0.099539   \n",
       "2          0.715384                0.918239                   0.392003   \n",
       "3           0.85561                0.909865                   0.181257   \n",
       "4          0.937617                0.935564                   0.178164   \n",
       "\n",
       "                 7                            8            9  \n",
       "0  Educação - 2017  Mortalidade Infantil - 2017  IDHM - 2017  \n",
       "1         0.761786                     0.882146     0.863962  \n",
       "2         0.723482                     0.915741     0.704057  \n",
       "3         0.763024                     0.880249     0.940334  \n",
       "4         0.758198                     0.867787     0.823389  "
      ]
     },
     "execution_count": 3,
     "metadata": {},
     "output_type": "execute_result"
    }
   ],
   "source": [
    "# Criando um dataframe com base na planilha 'Ranking' do arquivo Excel:\n",
    "dfr = pd.read_excel('dados_IGM-CFA_2017.xlsx',   # Nome do arquivo Excel.\n",
    "                    sheet_name='Ranking',   # Planilha de interesse.\n",
    "                    header=None,   # Numerar colunas.\n",
    "                    skiprows=1,   # Linhas a serem puladas/ignoradas.\n",
    "                    usecols=[3,4,6,7,32,34,35,36,37,38])   # Colunas de interesse.\n",
    "\n",
    "# Exibindo as 5 primeiras linhas:\n",
    "dfr.head()"
   ]
  },
  {
   "cell_type": "code",
   "execution_count": 4,
   "metadata": {
    "scrolled": true
   },
   "outputs": [
    {
     "data": {
      "text/html": [
       "<div>\n",
       "<style scoped>\n",
       "    .dataframe tbody tr th:only-of-type {\n",
       "        vertical-align: middle;\n",
       "    }\n",
       "\n",
       "    .dataframe tbody tr th {\n",
       "        vertical-align: top;\n",
       "    }\n",
       "\n",
       "    .dataframe thead th {\n",
       "        text-align: right;\n",
       "    }\n",
       "</style>\n",
       "<table border=\"1\" class=\"dataframe\">\n",
       "  <thead>\n",
       "    <tr style=\"text-align: right;\">\n",
       "      <th></th>\n",
       "      <th>0</th>\n",
       "      <th>1</th>\n",
       "      <th>2</th>\n",
       "      <th>3</th>\n",
       "      <th>4</th>\n",
       "      <th>5</th>\n",
       "      <th>6</th>\n",
       "      <th>7</th>\n",
       "      <th>8</th>\n",
       "      <th>9</th>\n",
       "    </tr>\n",
       "  </thead>\n",
       "  <tbody>\n",
       "    <tr>\n",
       "      <th>5566</th>\n",
       "      <td>TO</td>\n",
       "      <td>TAGUATINGA</td>\n",
       "      <td>Pequeno porte 1</td>\n",
       "      <td>16386</td>\n",
       "      <td>0.910293</td>\n",
       "      <td>0.507684</td>\n",
       "      <td>0.203733</td>\n",
       "      <td>0.360708</td>\n",
       "      <td>0.796532</td>\n",
       "      <td>0.455847</td>\n",
       "    </tr>\n",
       "    <tr>\n",
       "      <th>5567</th>\n",
       "      <td>TO</td>\n",
       "      <td>TAIPAS DO TOCANTINS</td>\n",
       "      <td>Pequeno porte 1</td>\n",
       "      <td>2112</td>\n",
       "      <td>NaN</td>\n",
       "      <td>0.351699</td>\n",
       "      <td>NaN</td>\n",
       "      <td>0.686294</td>\n",
       "      <td>0.720672</td>\n",
       "      <td>0.377088</td>\n",
       "    </tr>\n",
       "    <tr>\n",
       "      <th>5568</th>\n",
       "      <td>TO</td>\n",
       "      <td>TALISMA</td>\n",
       "      <td>Pequeno porte 1</td>\n",
       "      <td>2757</td>\n",
       "      <td>0.423969</td>\n",
       "      <td>0.767106</td>\n",
       "      <td>0.336666</td>\n",
       "      <td>0.42196</td>\n",
       "      <td>0.731509</td>\n",
       "      <td>0.50358</td>\n",
       "    </tr>\n",
       "    <tr>\n",
       "      <th>5569</th>\n",
       "      <td>TO</td>\n",
       "      <td>TOCANTINIA</td>\n",
       "      <td>Pequeno porte 1</td>\n",
       "      <td>7387</td>\n",
       "      <td>0.939071</td>\n",
       "      <td>0.506227</td>\n",
       "      <td>0.129573</td>\n",
       "      <td>0.304846</td>\n",
       "      <td>0.65294</td>\n",
       "      <td>0.348449</td>\n",
       "    </tr>\n",
       "    <tr>\n",
       "      <th>5570</th>\n",
       "      <td>TO</td>\n",
       "      <td>WANDERLANDIA</td>\n",
       "      <td>Pequeno porte 1</td>\n",
       "      <td>11622</td>\n",
       "      <td>0.699219</td>\n",
       "      <td>0.570915</td>\n",
       "      <td>0.171242</td>\n",
       "      <td>0.646116</td>\n",
       "      <td>0.501219</td>\n",
       "      <td>0.465394</td>\n",
       "    </tr>\n",
       "  </tbody>\n",
       "</table>\n",
       "</div>"
      ],
      "text/plain": [
       "       0                    1                2      3         4         5  \\\n",
       "5566  TO           TAGUATINGA  Pequeno porte 1  16386  0.910293  0.507684   \n",
       "5567  TO  TAIPAS DO TOCANTINS  Pequeno porte 1   2112       NaN  0.351699   \n",
       "5568  TO              TALISMA  Pequeno porte 1   2757  0.423969  0.767106   \n",
       "5569  TO           TOCANTINIA  Pequeno porte 1   7387  0.939071  0.506227   \n",
       "5570  TO         WANDERLANDIA  Pequeno porte 1  11622  0.699219  0.570915   \n",
       "\n",
       "             6         7         8         9  \n",
       "5566  0.203733  0.360708  0.796532  0.455847  \n",
       "5567       NaN  0.686294  0.720672  0.377088  \n",
       "5568  0.336666   0.42196  0.731509   0.50358  \n",
       "5569  0.129573  0.304846   0.65294  0.348449  \n",
       "5570  0.171242  0.646116  0.501219  0.465394  "
      ]
     },
     "execution_count": 4,
     "metadata": {},
     "output_type": "execute_result"
    }
   ],
   "source": [
    "# Exibindo as 5 últimas linhas:\n",
    "dfr.tail()"
   ]
  },
  {
   "cell_type": "code",
   "execution_count": 5,
   "metadata": {},
   "outputs": [
    {
     "data": {
      "text/html": [
       "<div>\n",
       "<style scoped>\n",
       "    .dataframe tbody tr th:only-of-type {\n",
       "        vertical-align: middle;\n",
       "    }\n",
       "\n",
       "    .dataframe tbody tr th {\n",
       "        vertical-align: top;\n",
       "    }\n",
       "\n",
       "    .dataframe thead th {\n",
       "        text-align: right;\n",
       "    }\n",
       "</style>\n",
       "<table border=\"1\" class=\"dataframe\">\n",
       "  <thead>\n",
       "    <tr style=\"text-align: right;\">\n",
       "      <th></th>\n",
       "      <th>0</th>\n",
       "      <th>1</th>\n",
       "      <th>2</th>\n",
       "      <th>3</th>\n",
       "    </tr>\n",
       "  </thead>\n",
       "  <tbody>\n",
       "    <tr>\n",
       "      <th>0</th>\n",
       "      <td>Despesas com educação (STN 2016)</td>\n",
       "      <td>Despesas com saúde (STN 2016)</td>\n",
       "      <td>Gasto per capita educação 2016 (Despesas com e...</td>\n",
       "      <td>Gasto per capita saúde 2016 (Despesas com saúd...</td>\n",
       "    </tr>\n",
       "    <tr>\n",
       "      <th>1</th>\n",
       "      <td>7.75758e+06</td>\n",
       "      <td>7.0154e+06</td>\n",
       "      <td>1645.65</td>\n",
       "      <td>1488.2</td>\n",
       "    </tr>\n",
       "    <tr>\n",
       "      <th>2</th>\n",
       "      <td>1.04188e+07</td>\n",
       "      <td>9.84466e+06</td>\n",
       "      <td>1925.85</td>\n",
       "      <td>1819.72</td>\n",
       "    </tr>\n",
       "    <tr>\n",
       "      <th>3</th>\n",
       "      <td>1.35462e+08</td>\n",
       "      <td>1.43626e+08</td>\n",
       "      <td>1607.02</td>\n",
       "      <td>1703.87</td>\n",
       "    </tr>\n",
       "    <tr>\n",
       "      <th>4</th>\n",
       "      <td>2.1645e+07</td>\n",
       "      <td>1.47439e+07</td>\n",
       "      <td>2078.66</td>\n",
       "      <td>1415.91</td>\n",
       "    </tr>\n",
       "  </tbody>\n",
       "</table>\n",
       "</div>"
      ],
      "text/plain": [
       "                                  0                              1  \\\n",
       "0  Despesas com educação (STN 2016)  Despesas com saúde (STN 2016)   \n",
       "1                       7.75758e+06                     7.0154e+06   \n",
       "2                       1.04188e+07                    9.84466e+06   \n",
       "3                       1.35462e+08                    1.43626e+08   \n",
       "4                        2.1645e+07                    1.47439e+07   \n",
       "\n",
       "                                                   2  \\\n",
       "0  Gasto per capita educação 2016 (Despesas com e...   \n",
       "1                                            1645.65   \n",
       "2                                            1925.85   \n",
       "3                                            1607.02   \n",
       "4                                            2078.66   \n",
       "\n",
       "                                                   3  \n",
       "0  Gasto per capita saúde 2016 (Despesas com saúd...  \n",
       "1                                             1488.2  \n",
       "2                                            1819.72  \n",
       "3                                            1703.87  \n",
       "4                                            1415.91  "
      ]
     },
     "execution_count": 5,
     "metadata": {},
     "output_type": "execute_result"
    }
   ],
   "source": [
    "# Criando um DataFrame com base na planilha 'Fiscal' do arquivo Excel:\n",
    "dff = pd.read_excel('dados_IGM-CFA_2017.xlsx',   # Nome do arquivo Excel.\n",
    "                    sheet_name='Fiscal',   # Planilha de interesse.\n",
    "                    header=None,   # Numerar colunas.\n",
    "                    skiprows=1,   # Linhas a serem puladas/ignoradas.\n",
    "                    usecols=[12,13,14,15])   # Colunas de interesse.\n",
    "\n",
    "# Exibindo as 5 primeiras linhas:\n",
    "dff.head()"
   ]
  },
  {
   "cell_type": "code",
   "execution_count": 6,
   "metadata": {},
   "outputs": [
    {
     "data": {
      "text/html": [
       "<div>\n",
       "<style scoped>\n",
       "    .dataframe tbody tr th:only-of-type {\n",
       "        vertical-align: middle;\n",
       "    }\n",
       "\n",
       "    .dataframe tbody tr th {\n",
       "        vertical-align: top;\n",
       "    }\n",
       "\n",
       "    .dataframe thead th {\n",
       "        text-align: right;\n",
       "    }\n",
       "</style>\n",
       "<table border=\"1\" class=\"dataframe\">\n",
       "  <thead>\n",
       "    <tr style=\"text-align: right;\">\n",
       "      <th></th>\n",
       "      <th>0</th>\n",
       "      <th>1</th>\n",
       "      <th>2</th>\n",
       "      <th>3</th>\n",
       "    </tr>\n",
       "  </thead>\n",
       "  <tbody>\n",
       "    <tr>\n",
       "      <th>5566</th>\n",
       "      <td>5.897e+06</td>\n",
       "      <td>3.31515e+06</td>\n",
       "      <td>805.821</td>\n",
       "      <td>453.013</td>\n",
       "    </tr>\n",
       "    <tr>\n",
       "      <th>5567</th>\n",
       "      <td>3.01835e+06</td>\n",
       "      <td>1.8439e+06</td>\n",
       "      <td>1184.59</td>\n",
       "      <td>723.664</td>\n",
       "    </tr>\n",
       "    <tr>\n",
       "      <th>5568</th>\n",
       "      <td>1.27528e+06</td>\n",
       "      <td>693989</td>\n",
       "      <td>271.221</td>\n",
       "      <td>147.594</td>\n",
       "    </tr>\n",
       "    <tr>\n",
       "      <th>5569</th>\n",
       "      <td>3.36934e+06</td>\n",
       "      <td>3.27695e+06</td>\n",
       "      <td>809.742</td>\n",
       "      <td>787.54</td>\n",
       "    </tr>\n",
       "    <tr>\n",
       "      <th>5570</th>\n",
       "      <td>8.87466e+06</td>\n",
       "      <td>8.2255e+06</td>\n",
       "      <td>541.6</td>\n",
       "      <td>501.984</td>\n",
       "    </tr>\n",
       "  </tbody>\n",
       "</table>\n",
       "</div>"
      ],
      "text/plain": [
       "                0            1        2        3\n",
       "5566    5.897e+06  3.31515e+06  805.821  453.013\n",
       "5567  3.01835e+06   1.8439e+06  1184.59  723.664\n",
       "5568  1.27528e+06       693989  271.221  147.594\n",
       "5569  3.36934e+06  3.27695e+06  809.742   787.54\n",
       "5570  8.87466e+06   8.2255e+06    541.6  501.984"
      ]
     },
     "execution_count": 6,
     "metadata": {},
     "output_type": "execute_result"
    }
   ],
   "source": [
    "# Exibindo as 5 últimas linhas:\n",
    "dff.tail()"
   ]
  },
  {
   "cell_type": "code",
   "execution_count": 7,
   "metadata": {},
   "outputs": [
    {
     "data": {
      "text/html": [
       "<div>\n",
       "<style scoped>\n",
       "    .dataframe tbody tr th:only-of-type {\n",
       "        vertical-align: middle;\n",
       "    }\n",
       "\n",
       "    .dataframe tbody tr th {\n",
       "        vertical-align: top;\n",
       "    }\n",
       "\n",
       "    .dataframe thead th {\n",
       "        text-align: right;\n",
       "    }\n",
       "</style>\n",
       "<table border=\"1\" class=\"dataframe\">\n",
       "  <thead>\n",
       "    <tr style=\"text-align: right;\">\n",
       "      <th></th>\n",
       "      <th>0</th>\n",
       "      <th>1</th>\n",
       "      <th>2</th>\n",
       "      <th>3</th>\n",
       "      <th>4</th>\n",
       "      <th>5</th>\n",
       "      <th>6</th>\n",
       "      <th>7</th>\n",
       "      <th>8</th>\n",
       "      <th>9</th>\n",
       "      <th>10</th>\n",
       "    </tr>\n",
       "  </thead>\n",
       "  <tbody>\n",
       "    <tr>\n",
       "      <th>0</th>\n",
       "      <td>Informatização - 2017</td>\n",
       "      <td>Educação</td>\n",
       "      <td>Assistência e desenvolvimento social</td>\n",
       "      <td>Turismo</td>\n",
       "      <td>Cultura</td>\n",
       "      <td>Habitação</td>\n",
       "      <td>Meio ambiente</td>\n",
       "      <td>Transporte</td>\n",
       "      <td>Desenvolvimento urbano</td>\n",
       "      <td>Saneamento básico</td>\n",
       "      <td>Gestão das águas</td>\n",
       "    </tr>\n",
       "    <tr>\n",
       "      <th>1</th>\n",
       "      <td>0.999572</td>\n",
       "      <td>1</td>\n",
       "      <td>1</td>\n",
       "      <td>1</td>\n",
       "      <td>1</td>\n",
       "      <td>1</td>\n",
       "      <td>1</td>\n",
       "      <td>1</td>\n",
       "      <td>1</td>\n",
       "      <td>1</td>\n",
       "      <td>1</td>\n",
       "    </tr>\n",
       "    <tr>\n",
       "      <th>2</th>\n",
       "      <td>0.999572</td>\n",
       "      <td>1</td>\n",
       "      <td>1</td>\n",
       "      <td>1</td>\n",
       "      <td>1</td>\n",
       "      <td>1</td>\n",
       "      <td>1</td>\n",
       "      <td>1</td>\n",
       "      <td>1</td>\n",
       "      <td>1</td>\n",
       "      <td>1</td>\n",
       "    </tr>\n",
       "    <tr>\n",
       "      <th>3</th>\n",
       "      <td>0.999572</td>\n",
       "      <td>1</td>\n",
       "      <td>1</td>\n",
       "      <td>1</td>\n",
       "      <td>1</td>\n",
       "      <td>1</td>\n",
       "      <td>1</td>\n",
       "      <td>1</td>\n",
       "      <td>1</td>\n",
       "      <td>1</td>\n",
       "      <td>1</td>\n",
       "    </tr>\n",
       "    <tr>\n",
       "      <th>4</th>\n",
       "      <td>0.999572</td>\n",
       "      <td>1</td>\n",
       "      <td>1</td>\n",
       "      <td>1</td>\n",
       "      <td>1</td>\n",
       "      <td>1</td>\n",
       "      <td>1</td>\n",
       "      <td>1</td>\n",
       "      <td>1</td>\n",
       "      <td>1</td>\n",
       "      <td>0</td>\n",
       "    </tr>\n",
       "  </tbody>\n",
       "</table>\n",
       "</div>"
      ],
      "text/plain": [
       "                      0         1                                     2   \\\n",
       "0  Informatização - 2017  Educação  Assistência e desenvolvimento social   \n",
       "1               0.999572         1                                     1   \n",
       "2               0.999572         1                                     1   \n",
       "3               0.999572         1                                     1   \n",
       "4               0.999572         1                                     1   \n",
       "\n",
       "        3        4          5              6           7   \\\n",
       "0  Turismo  Cultura  Habitação  Meio ambiente  Transporte   \n",
       "1        1        1          1              1           1   \n",
       "2        1        1          1              1           1   \n",
       "3        1        1          1              1           1   \n",
       "4        1        1          1              1           1   \n",
       "\n",
       "                       8                  9                 10  \n",
       "0  Desenvolvimento urbano  Saneamento básico  Gestão das águas  \n",
       "1                       1                  1                 1  \n",
       "2                       1                  1                 1  \n",
       "3                       1                  1                 1  \n",
       "4                       1                  1                 0  "
      ]
     },
     "execution_count": 7,
     "metadata": {},
     "output_type": "execute_result"
    }
   ],
   "source": [
    "# Criando um DataFrame com base na planilha 'Gestão' do arquivo Excel:\n",
    "dfg = pd.read_excel('dados_IGM-CFA_2017.xlsx',   # Nome do arquivo Excel.\n",
    "                    sheet_name='Gestão',   # Planilha de interesse.\n",
    "                    header=None,   # Numerar colunas.\n",
    "                    skiprows=1,   # Linhas a serem puladas/ignoradas.\n",
    "                    usecols=[26,27,28,29,30,31,32,33,34,35,36])   # Colunas de interesse.\n",
    "\n",
    "# Exibindo as 5 primeiras linhas:\n",
    "dfg.head()"
   ]
  },
  {
   "cell_type": "code",
   "execution_count": 8,
   "metadata": {},
   "outputs": [
    {
     "data": {
      "text/html": [
       "<div>\n",
       "<style scoped>\n",
       "    .dataframe tbody tr th:only-of-type {\n",
       "        vertical-align: middle;\n",
       "    }\n",
       "\n",
       "    .dataframe tbody tr th {\n",
       "        vertical-align: top;\n",
       "    }\n",
       "\n",
       "    .dataframe thead th {\n",
       "        text-align: right;\n",
       "    }\n",
       "</style>\n",
       "<table border=\"1\" class=\"dataframe\">\n",
       "  <thead>\n",
       "    <tr style=\"text-align: right;\">\n",
       "      <th></th>\n",
       "      <th>0</th>\n",
       "      <th>1</th>\n",
       "      <th>2</th>\n",
       "      <th>3</th>\n",
       "      <th>4</th>\n",
       "      <th>5</th>\n",
       "      <th>6</th>\n",
       "      <th>7</th>\n",
       "      <th>8</th>\n",
       "      <th>9</th>\n",
       "      <th>10</th>\n",
       "    </tr>\n",
       "  </thead>\n",
       "  <tbody>\n",
       "    <tr>\n",
       "      <th>5566</th>\n",
       "      <td>0.999642</td>\n",
       "      <td>0</td>\n",
       "      <td>0</td>\n",
       "      <td>0</td>\n",
       "      <td>0</td>\n",
       "      <td>0</td>\n",
       "      <td>0</td>\n",
       "      <td>0</td>\n",
       "      <td>0</td>\n",
       "      <td>0</td>\n",
       "      <td>0</td>\n",
       "    </tr>\n",
       "    <tr>\n",
       "      <th>5567</th>\n",
       "      <td>0.704208</td>\n",
       "      <td>0</td>\n",
       "      <td>0</td>\n",
       "      <td>0</td>\n",
       "      <td>0</td>\n",
       "      <td>0</td>\n",
       "      <td>0</td>\n",
       "      <td>0</td>\n",
       "      <td>0</td>\n",
       "      <td>0</td>\n",
       "      <td>0</td>\n",
       "    </tr>\n",
       "    <tr>\n",
       "      <th>5568</th>\n",
       "      <td>0.999642</td>\n",
       "      <td>0</td>\n",
       "      <td>0</td>\n",
       "      <td>0</td>\n",
       "      <td>0</td>\n",
       "      <td>0</td>\n",
       "      <td>0</td>\n",
       "      <td>0</td>\n",
       "      <td>0</td>\n",
       "      <td>0</td>\n",
       "      <td>0</td>\n",
       "    </tr>\n",
       "    <tr>\n",
       "      <th>5569</th>\n",
       "      <td>0.999642</td>\n",
       "      <td>0</td>\n",
       "      <td>0</td>\n",
       "      <td>0</td>\n",
       "      <td>0</td>\n",
       "      <td>0</td>\n",
       "      <td>0</td>\n",
       "      <td>0</td>\n",
       "      <td>0</td>\n",
       "      <td>0</td>\n",
       "      <td>0</td>\n",
       "    </tr>\n",
       "    <tr>\n",
       "      <th>5570</th>\n",
       "      <td>0.999642</td>\n",
       "      <td>0</td>\n",
       "      <td>0</td>\n",
       "      <td>0</td>\n",
       "      <td>0</td>\n",
       "      <td>0</td>\n",
       "      <td>0</td>\n",
       "      <td>0</td>\n",
       "      <td>0</td>\n",
       "      <td>0</td>\n",
       "      <td>0</td>\n",
       "    </tr>\n",
       "  </tbody>\n",
       "</table>\n",
       "</div>"
      ],
      "text/plain": [
       "            0  1  2  3  4  5  6  7  8  9  10\n",
       "5566  0.999642  0  0  0  0  0  0  0  0  0  0\n",
       "5567  0.704208  0  0  0  0  0  0  0  0  0  0\n",
       "5568  0.999642  0  0  0  0  0  0  0  0  0  0\n",
       "5569  0.999642  0  0  0  0  0  0  0  0  0  0\n",
       "5570  0.999642  0  0  0  0  0  0  0  0  0  0"
      ]
     },
     "execution_count": 8,
     "metadata": {},
     "output_type": "execute_result"
    }
   ],
   "source": [
    "# Exibindo as 5 últimas linhas:\n",
    "dfg.tail()"
   ]
  },
  {
   "cell_type": "code",
   "execution_count": 9,
   "metadata": {},
   "outputs": [
    {
     "data": {
      "text/html": [
       "<div>\n",
       "<style scoped>\n",
       "    .dataframe tbody tr th:only-of-type {\n",
       "        vertical-align: middle;\n",
       "    }\n",
       "\n",
       "    .dataframe tbody tr th {\n",
       "        vertical-align: top;\n",
       "    }\n",
       "\n",
       "    .dataframe thead th {\n",
       "        text-align: right;\n",
       "    }\n",
       "</style>\n",
       "<table border=\"1\" class=\"dataframe\">\n",
       "  <thead>\n",
       "    <tr style=\"text-align: right;\">\n",
       "      <th></th>\n",
       "      <th>0</th>\n",
       "      <th>1</th>\n",
       "      <th>2</th>\n",
       "      <th>3</th>\n",
       "    </tr>\n",
       "  </thead>\n",
       "  <tbody>\n",
       "    <tr>\n",
       "      <th>0</th>\n",
       "      <td>Taxa de abandono escolar no Ens. Fundamental 2...</td>\n",
       "      <td>Taxa de abandono escolar no Ens. Médio 2010 - ...</td>\n",
       "      <td>Taxa de abandono escolar no Ens. Fundamental 2...</td>\n",
       "      <td>Taxa de abandono escolar no Ens. Médio 2016 - ...</td>\n",
       "    </tr>\n",
       "    <tr>\n",
       "      <th>1</th>\n",
       "      <td>0.003</td>\n",
       "      <td>0.033</td>\n",
       "      <td>0.2</td>\n",
       "      <td>1.1</td>\n",
       "    </tr>\n",
       "    <tr>\n",
       "      <th>2</th>\n",
       "      <td>0.008</td>\n",
       "      <td>0.065</td>\n",
       "      <td>0.4</td>\n",
       "      <td>1.4</td>\n",
       "    </tr>\n",
       "    <tr>\n",
       "      <th>3</th>\n",
       "      <td>0.008</td>\n",
       "      <td>0.035</td>\n",
       "      <td>0.1</td>\n",
       "      <td>3.8</td>\n",
       "    </tr>\n",
       "    <tr>\n",
       "      <th>4</th>\n",
       "      <td>0.024</td>\n",
       "      <td>0.036</td>\n",
       "      <td>0.5</td>\n",
       "      <td>11.7</td>\n",
       "    </tr>\n",
       "  </tbody>\n",
       "</table>\n",
       "</div>"
      ],
      "text/plain": [
       "                                                   0  \\\n",
       "0  Taxa de abandono escolar no Ens. Fundamental 2...   \n",
       "1                                              0.003   \n",
       "2                                              0.008   \n",
       "3                                              0.008   \n",
       "4                                              0.024   \n",
       "\n",
       "                                                   1  \\\n",
       "0  Taxa de abandono escolar no Ens. Médio 2010 - ...   \n",
       "1                                              0.033   \n",
       "2                                              0.065   \n",
       "3                                              0.035   \n",
       "4                                              0.036   \n",
       "\n",
       "                                                   2  \\\n",
       "0  Taxa de abandono escolar no Ens. Fundamental 2...   \n",
       "1                                                0.2   \n",
       "2                                                0.4   \n",
       "3                                                0.1   \n",
       "4                                                0.5   \n",
       "\n",
       "                                                   3  \n",
       "0  Taxa de abandono escolar no Ens. Médio 2016 - ...  \n",
       "1                                                1.1  \n",
       "2                                                1.4  \n",
       "3                                                3.8  \n",
       "4                                               11.7  "
      ]
     },
     "execution_count": 9,
     "metadata": {},
     "output_type": "execute_result"
    }
   ],
   "source": [
    "# Criando um DataFrame com base na planilha 'Desempenho' do arquivo Excel:\n",
    "dfd = pd.read_excel('dados_IGM-CFA_2017.xlsx',   # Nome do arquivo Excel.\n",
    "                    sheet_name='Desempenho',   # Planilha de interesse.\n",
    "                    header=None,   # Numerar colunas.\n",
    "                    skiprows=1,   # Linhas a serem puladas/ignoradas.\n",
    "                    usecols=[36,37,38,39])   # Colunas de interesse.\n",
    "\n",
    "# Exibindo as 5 primeiras linhas:\n",
    "dfd.head()"
   ]
  },
  {
   "cell_type": "code",
   "execution_count": 10,
   "metadata": {},
   "outputs": [
    {
     "data": {
      "text/html": [
       "<div>\n",
       "<style scoped>\n",
       "    .dataframe tbody tr th:only-of-type {\n",
       "        vertical-align: middle;\n",
       "    }\n",
       "\n",
       "    .dataframe tbody tr th {\n",
       "        vertical-align: top;\n",
       "    }\n",
       "\n",
       "    .dataframe thead th {\n",
       "        text-align: right;\n",
       "    }\n",
       "</style>\n",
       "<table border=\"1\" class=\"dataframe\">\n",
       "  <thead>\n",
       "    <tr style=\"text-align: right;\">\n",
       "      <th></th>\n",
       "      <th>0</th>\n",
       "      <th>1</th>\n",
       "      <th>2</th>\n",
       "      <th>3</th>\n",
       "    </tr>\n",
       "  </thead>\n",
       "  <tbody>\n",
       "    <tr>\n",
       "      <th>5566</th>\n",
       "      <td>0.02</td>\n",
       "      <td>0.026</td>\n",
       "      <td>1.7</td>\n",
       "      <td>5.4</td>\n",
       "    </tr>\n",
       "    <tr>\n",
       "      <th>5567</th>\n",
       "      <td>0.001</td>\n",
       "      <td>0.051</td>\n",
       "      <td>2</td>\n",
       "      <td>7.6</td>\n",
       "    </tr>\n",
       "    <tr>\n",
       "      <th>5568</th>\n",
       "      <td>0.035</td>\n",
       "      <td>0.078</td>\n",
       "      <td>1.2</td>\n",
       "      <td>3.7</td>\n",
       "    </tr>\n",
       "    <tr>\n",
       "      <th>5569</th>\n",
       "      <td>0.021</td>\n",
       "      <td>0.017</td>\n",
       "      <td>2.5</td>\n",
       "      <td>0</td>\n",
       "    </tr>\n",
       "    <tr>\n",
       "      <th>5570</th>\n",
       "      <td>0.029</td>\n",
       "      <td>0.166</td>\n",
       "      <td>2.4</td>\n",
       "      <td>7.2</td>\n",
       "    </tr>\n",
       "  </tbody>\n",
       "</table>\n",
       "</div>"
      ],
      "text/plain": [
       "          0      1    2    3\n",
       "5566   0.02  0.026  1.7  5.4\n",
       "5567  0.001  0.051    2  7.6\n",
       "5568  0.035  0.078  1.2  3.7\n",
       "5569  0.021  0.017  2.5    0\n",
       "5570  0.029  0.166  2.4  7.2"
      ]
     },
     "execution_count": 10,
     "metadata": {},
     "output_type": "execute_result"
    }
   ],
   "source": [
    "# Exibindo as 5 últimas linhas:\n",
    "dfd.tail()"
   ]
  },
  {
   "cell_type": "code",
   "execution_count": 11,
   "metadata": {},
   "outputs": [
    {
     "ename": "AttributeError",
     "evalue": "module 'pandas' has no attribute 'join'",
     "output_type": "error",
     "traceback": [
      "\u001b[1;31m---------------------------------------------------------------------------\u001b[0m",
      "\u001b[1;31mAttributeError\u001b[0m                            Traceback (most recent call last)",
      "\u001b[1;32m<ipython-input-11-182e752afc4e>\u001b[0m in \u001b[0;36m<module>\u001b[1;34m()\u001b[0m\n\u001b[1;32m----> 1\u001b[1;33m \u001b[0mdfall\u001b[0m \u001b[1;33m=\u001b[0m \u001b[0mpd\u001b[0m\u001b[1;33m.\u001b[0m\u001b[0mjoin\u001b[0m\u001b[1;33m(\u001b[0m\u001b[0mdfr\u001b[0m\u001b[1;33m[\u001b[0m\u001b[1;36m0\u001b[0m\u001b[1;33m,\u001b[0m\u001b[1;36m1\u001b[0m\u001b[1;33m,\u001b[0m\u001b[1;36m4\u001b[0m\u001b[1;33m,\u001b[0m\u001b[1;36m6\u001b[0m\u001b[1;33m,\u001b[0m\u001b[1;36m7\u001b[0m\u001b[1;33m]\u001b[0m\u001b[1;33m,\u001b[0m \u001b[0mdff\u001b[0m\u001b[1;33m[\u001b[0m\u001b[1;36m0\u001b[0m\u001b[1;33m]\u001b[0m\u001b[1;33m,\u001b[0m \u001b[0mdfg\u001b[0m\u001b[1;33m[\u001b[0m\u001b[1;36m4\u001b[0m\u001b[1;33m]\u001b[0m\u001b[1;33m,\u001b[0m \u001b[0mdfd\u001b[0m\u001b[1;33m[\u001b[0m\u001b[1;36m3\u001b[0m\u001b[1;33m]\u001b[0m\u001b[1;33m)\u001b[0m\u001b[1;33m\u001b[0m\u001b[0m\n\u001b[0m\u001b[0;32m      2\u001b[0m \u001b[0mdfall\u001b[0m\u001b[1;33m.\u001b[0m\u001b[0mhead\u001b[0m\u001b[1;33m(\u001b[0m\u001b[1;33m)\u001b[0m\u001b[1;33m\u001b[0m\u001b[0m\n",
      "\u001b[1;31mAttributeError\u001b[0m: module 'pandas' has no attribute 'join'"
     ]
    }
   ],
   "source": [
    "dfall = pd.join(dfr[0,1,4,6,7], dff[0], dfg[4], dfd[3])\n",
    "dfall.head()"
   ]
  },
  {
   "cell_type": "code",
   "execution_count": null,
   "metadata": {},
   "outputs": [],
   "source": []
  },
  {
   "cell_type": "code",
   "execution_count": 12,
   "metadata": {},
   "outputs": [
    {
     "data": {
      "text/html": [
       "<div>\n",
       "<style scoped>\n",
       "    .dataframe tbody tr th:only-of-type {\n",
       "        vertical-align: middle;\n",
       "    }\n",
       "\n",
       "    .dataframe tbody tr th {\n",
       "        vertical-align: top;\n",
       "    }\n",
       "\n",
       "    .dataframe thead th {\n",
       "        text-align: right;\n",
       "    }\n",
       "</style>\n",
       "<table border=\"1\" class=\"dataframe\">\n",
       "  <thead>\n",
       "    <tr style=\"text-align: right;\">\n",
       "      <th></th>\n",
       "      <th>0</th>\n",
       "      <th>1</th>\n",
       "      <th>2</th>\n",
       "      <th>3</th>\n",
       "      <th>4</th>\n",
       "      <th>5</th>\n",
       "      <th>6</th>\n",
       "      <th>7</th>\n",
       "      <th>8</th>\n",
       "      <th>9</th>\n",
       "      <th>10</th>\n",
       "    </tr>\n",
       "  </thead>\n",
       "  <tbody>\n",
       "    <tr>\n",
       "      <th>0</th>\n",
       "      <td>Estado</td>\n",
       "      <td>Nome</td>\n",
       "      <td>Porte do Município</td>\n",
       "      <td>População 2016 (IBGE)</td>\n",
       "      <td>Violência - 2017</td>\n",
       "      <td>Vulnerabilidade - 2017</td>\n",
       "      <td>Atendimento Médico - 2017</td>\n",
       "      <td>Educação - 2017</td>\n",
       "      <td>Mortalidade Infantil - 2017</td>\n",
       "      <td>IDHM - 2017</td>\n",
       "      <td>NaN</td>\n",
       "    </tr>\n",
       "    <tr>\n",
       "      <th>1</th>\n",
       "      <td>SP</td>\n",
       "      <td>SAO BERNARDO DO CAMPO</td>\n",
       "      <td>Grande porte</td>\n",
       "      <td>822242</td>\n",
       "      <td>0.915335</td>\n",
       "      <td>0.896793</td>\n",
       "      <td>0.099539</td>\n",
       "      <td>0.761786</td>\n",
       "      <td>0.882146</td>\n",
       "      <td>0.863962</td>\n",
       "      <td>NaN</td>\n",
       "    </tr>\n",
       "    <tr>\n",
       "      <th>2</th>\n",
       "      <td>PR</td>\n",
       "      <td>ITAIPULANDIA</td>\n",
       "      <td>Pequeno porte 1</td>\n",
       "      <td>10413</td>\n",
       "      <td>0.715384</td>\n",
       "      <td>0.918239</td>\n",
       "      <td>0.392003</td>\n",
       "      <td>0.723482</td>\n",
       "      <td>0.915741</td>\n",
       "      <td>0.704057</td>\n",
       "      <td>NaN</td>\n",
       "    </tr>\n",
       "    <tr>\n",
       "      <th>3</th>\n",
       "      <td>RJ</td>\n",
       "      <td>NITEROI</td>\n",
       "      <td>Grande porte</td>\n",
       "      <td>497883</td>\n",
       "      <td>0.85561</td>\n",
       "      <td>0.909865</td>\n",
       "      <td>0.181257</td>\n",
       "      <td>0.763024</td>\n",
       "      <td>0.880249</td>\n",
       "      <td>0.940334</td>\n",
       "      <td>NaN</td>\n",
       "    </tr>\n",
       "    <tr>\n",
       "      <th>4</th>\n",
       "      <td>SP</td>\n",
       "      <td>INDAIATUBA</td>\n",
       "      <td>Grande porte</td>\n",
       "      <td>235367</td>\n",
       "      <td>0.937617</td>\n",
       "      <td>0.935564</td>\n",
       "      <td>0.178164</td>\n",
       "      <td>0.758198</td>\n",
       "      <td>0.867787</td>\n",
       "      <td>0.823389</td>\n",
       "      <td>NaN</td>\n",
       "    </tr>\n",
       "  </tbody>\n",
       "</table>\n",
       "</div>"
      ],
      "text/plain": [
       "       0                      1                   2                      3   \\\n",
       "0  Estado                   Nome  Porte do Município  População 2016 (IBGE)   \n",
       "1      SP  SAO BERNARDO DO CAMPO        Grande porte                 822242   \n",
       "2      PR           ITAIPULANDIA     Pequeno porte 1                  10413   \n",
       "3      RJ                NITEROI        Grande porte                 497883   \n",
       "4      SP             INDAIATUBA        Grande porte                 235367   \n",
       "\n",
       "                 4                       5                          6   \\\n",
       "0  Violência - 2017  Vulnerabilidade - 2017  Atendimento Médico - 2017   \n",
       "1          0.915335                0.896793                   0.099539   \n",
       "2          0.715384                0.918239                   0.392003   \n",
       "3           0.85561                0.909865                   0.181257   \n",
       "4          0.937617                0.935564                   0.178164   \n",
       "\n",
       "                7                            8            9    10  \n",
       "0  Educação - 2017  Mortalidade Infantil - 2017  IDHM - 2017  NaN  \n",
       "1         0.761786                     0.882146     0.863962  NaN  \n",
       "2         0.723482                     0.915741     0.704057  NaN  \n",
       "3         0.763024                     0.880249     0.940334  NaN  \n",
       "4         0.758198                     0.867787     0.823389  NaN  "
      ]
     },
     "execution_count": 12,
     "metadata": {},
     "output_type": "execute_result"
    }
   ],
   "source": [
    "df = dfr.append([dff, dfg, dfd])\n",
    "df.head()"
   ]
  },
  {
   "cell_type": "code",
   "execution_count": null,
   "metadata": {},
   "outputs": [],
   "source": []
  },
  {
   "cell_type": "code",
   "execution_count": 13,
   "metadata": {},
   "outputs": [
    {
     "data": {
      "text/html": [
       "<div>\n",
       "<style scoped>\n",
       "    .dataframe tbody tr th:only-of-type {\n",
       "        vertical-align: middle;\n",
       "    }\n",
       "\n",
       "    .dataframe tbody tr th {\n",
       "        vertical-align: top;\n",
       "    }\n",
       "\n",
       "    .dataframe thead th {\n",
       "        text-align: right;\n",
       "    }\n",
       "</style>\n",
       "<table border=\"1\" class=\"dataframe\">\n",
       "  <thead>\n",
       "    <tr style=\"text-align: right;\">\n",
       "      <th></th>\n",
       "      <th>0</th>\n",
       "      <th>1</th>\n",
       "      <th>2</th>\n",
       "      <th>3</th>\n",
       "      <th>4</th>\n",
       "      <th>5</th>\n",
       "      <th>6</th>\n",
       "      <th>7</th>\n",
       "      <th>8</th>\n",
       "      <th>9</th>\n",
       "      <th>10</th>\n",
       "    </tr>\n",
       "  </thead>\n",
       "  <tbody>\n",
       "    <tr>\n",
       "      <th>5566</th>\n",
       "      <td>0.02</td>\n",
       "      <td>0.026</td>\n",
       "      <td>1.7</td>\n",
       "      <td>5.4</td>\n",
       "      <td>NaN</td>\n",
       "      <td>NaN</td>\n",
       "      <td>NaN</td>\n",
       "      <td>NaN</td>\n",
       "      <td>NaN</td>\n",
       "      <td>NaN</td>\n",
       "      <td>NaN</td>\n",
       "    </tr>\n",
       "    <tr>\n",
       "      <th>5567</th>\n",
       "      <td>0.001</td>\n",
       "      <td>0.051</td>\n",
       "      <td>2</td>\n",
       "      <td>7.6</td>\n",
       "      <td>NaN</td>\n",
       "      <td>NaN</td>\n",
       "      <td>NaN</td>\n",
       "      <td>NaN</td>\n",
       "      <td>NaN</td>\n",
       "      <td>NaN</td>\n",
       "      <td>NaN</td>\n",
       "    </tr>\n",
       "    <tr>\n",
       "      <th>5568</th>\n",
       "      <td>0.035</td>\n",
       "      <td>0.078</td>\n",
       "      <td>1.2</td>\n",
       "      <td>3.7</td>\n",
       "      <td>NaN</td>\n",
       "      <td>NaN</td>\n",
       "      <td>NaN</td>\n",
       "      <td>NaN</td>\n",
       "      <td>NaN</td>\n",
       "      <td>NaN</td>\n",
       "      <td>NaN</td>\n",
       "    </tr>\n",
       "    <tr>\n",
       "      <th>5569</th>\n",
       "      <td>0.021</td>\n",
       "      <td>0.017</td>\n",
       "      <td>2.5</td>\n",
       "      <td>0</td>\n",
       "      <td>NaN</td>\n",
       "      <td>NaN</td>\n",
       "      <td>NaN</td>\n",
       "      <td>NaN</td>\n",
       "      <td>NaN</td>\n",
       "      <td>NaN</td>\n",
       "      <td>NaN</td>\n",
       "    </tr>\n",
       "    <tr>\n",
       "      <th>5570</th>\n",
       "      <td>0.029</td>\n",
       "      <td>0.166</td>\n",
       "      <td>2.4</td>\n",
       "      <td>7.2</td>\n",
       "      <td>NaN</td>\n",
       "      <td>NaN</td>\n",
       "      <td>NaN</td>\n",
       "      <td>NaN</td>\n",
       "      <td>NaN</td>\n",
       "      <td>NaN</td>\n",
       "      <td>NaN</td>\n",
       "    </tr>\n",
       "  </tbody>\n",
       "</table>\n",
       "</div>"
      ],
      "text/plain": [
       "         0      1    2    3    4    5    6    7    8    9    10\n",
       "5566   0.02  0.026  1.7  5.4  NaN  NaN  NaN  NaN  NaN  NaN  NaN\n",
       "5567  0.001  0.051    2  7.6  NaN  NaN  NaN  NaN  NaN  NaN  NaN\n",
       "5568  0.035  0.078  1.2  3.7  NaN  NaN  NaN  NaN  NaN  NaN  NaN\n",
       "5569  0.021  0.017  2.5    0  NaN  NaN  NaN  NaN  NaN  NaN  NaN\n",
       "5570  0.029  0.166  2.4  7.2  NaN  NaN  NaN  NaN  NaN  NaN  NaN"
      ]
     },
     "execution_count": 13,
     "metadata": {},
     "output_type": "execute_result"
    }
   ],
   "source": [
    "df.tail()"
   ]
  },
  {
   "cell_type": "code",
   "execution_count": 14,
   "metadata": {},
   "outputs": [
    {
     "data": {
      "text/plain": [
       "(5571, 10)"
      ]
     },
     "execution_count": 14,
     "metadata": {},
     "output_type": "execute_result"
    }
   ],
   "source": [
    "# Qual o tamanho do DataFrame em termos de (linhas, colunas) ?\n",
    "dfr.shape"
   ]
  },
  {
   "cell_type": "code",
   "execution_count": 15,
   "metadata": {},
   "outputs": [
    {
     "data": {
      "text/plain": [
       "(5571, 4)"
      ]
     },
     "execution_count": 15,
     "metadata": {},
     "output_type": "execute_result"
    }
   ],
   "source": [
    " dff.shape"
   ]
  },
  {
   "cell_type": "code",
   "execution_count": 16,
   "metadata": {},
   "outputs": [
    {
     "data": {
      "text/plain": [
       "(5571, 11)"
      ]
     },
     "execution_count": 16,
     "metadata": {},
     "output_type": "execute_result"
    }
   ],
   "source": [
    "dfg.shape"
   ]
  },
  {
   "cell_type": "code",
   "execution_count": 17,
   "metadata": {},
   "outputs": [
    {
     "data": {
      "text/plain": [
       "(5571, 4)"
      ]
     },
     "execution_count": 17,
     "metadata": {},
     "output_type": "execute_result"
    }
   ],
   "source": [
    "dfd.shape"
   ]
  },
  {
   "cell_type": "code",
   "execution_count": 18,
   "metadata": {},
   "outputs": [
    {
     "data": {
      "text/plain": [
       "(22284, 11)"
      ]
     },
     "execution_count": 18,
     "metadata": {},
     "output_type": "execute_result"
    }
   ],
   "source": [
    "df.shape"
   ]
  },
  {
   "cell_type": "code",
   "execution_count": 19,
   "metadata": {},
   "outputs": [
    {
     "data": {
      "text/plain": [
       "0    object\n",
       "1    object\n",
       "2    object\n",
       "3    object\n",
       "4    object\n",
       "5    object\n",
       "6    object\n",
       "7    object\n",
       "8    object\n",
       "9    object\n",
       "dtype: object"
      ]
     },
     "execution_count": 19,
     "metadata": {},
     "output_type": "execute_result"
    }
   ],
   "source": [
    "# Quais os tipos de cada coluna?\n",
    "dfr.dtypes"
   ]
  },
  {
   "cell_type": "code",
   "execution_count": 20,
   "metadata": {},
   "outputs": [
    {
     "data": {
      "text/plain": [
       "0    object\n",
       "1    object\n",
       "2    object\n",
       "3    object\n",
       "dtype: object"
      ]
     },
     "execution_count": 20,
     "metadata": {},
     "output_type": "execute_result"
    }
   ],
   "source": [
    "dff.dtypes"
   ]
  },
  {
   "cell_type": "code",
   "execution_count": 21,
   "metadata": {},
   "outputs": [
    {
     "data": {
      "text/plain": [
       "0     object\n",
       "1     object\n",
       "2     object\n",
       "3     object\n",
       "4     object\n",
       "5     object\n",
       "6     object\n",
       "7     object\n",
       "8     object\n",
       "9     object\n",
       "10    object\n",
       "dtype: object"
      ]
     },
     "execution_count": 21,
     "metadata": {},
     "output_type": "execute_result"
    }
   ],
   "source": [
    "dfg.dtypes"
   ]
  },
  {
   "cell_type": "code",
   "execution_count": 22,
   "metadata": {},
   "outputs": [
    {
     "data": {
      "text/plain": [
       "0    object\n",
       "1    object\n",
       "2    object\n",
       "3    object\n",
       "dtype: object"
      ]
     },
     "execution_count": 22,
     "metadata": {},
     "output_type": "execute_result"
    }
   ],
   "source": [
    "dfd.dtypes"
   ]
  },
  {
   "cell_type": "code",
   "execution_count": 23,
   "metadata": {},
   "outputs": [
    {
     "data": {
      "text/plain": [
       "0     object\n",
       "1     object\n",
       "2     object\n",
       "3     object\n",
       "4     object\n",
       "5     object\n",
       "6     object\n",
       "7     object\n",
       "8     object\n",
       "9     object\n",
       "10    object\n",
       "dtype: object"
      ]
     },
     "execution_count": 23,
     "metadata": {},
     "output_type": "execute_result"
    }
   ],
   "source": [
    "df.dtypes"
   ]
  },
  {
   "cell_type": "code",
   "execution_count": 24,
   "metadata": {},
   "outputs": [
    {
     "name": "stdout",
     "output_type": "stream",
     "text": [
      "<class 'pandas.core.frame.DataFrame'>\n",
      "RangeIndex: 5571 entries, 0 to 5570\n",
      "Data columns (total 10 columns):\n",
      "0    5571 non-null object\n",
      "1    5571 non-null object\n",
      "2    5571 non-null object\n",
      "3    5571 non-null object\n",
      "4    4364 non-null object\n",
      "5    5478 non-null object\n",
      "6    5142 non-null object\n",
      "7    5456 non-null object\n",
      "8    5523 non-null object\n",
      "9    5523 non-null object\n",
      "dtypes: object(10)\n",
      "memory usage: 435.3+ KB\n"
     ]
    }
   ],
   "source": [
    "# Como visualizar as colunas que possuem valores nulos?\n",
    "dfr.info()"
   ]
  },
  {
   "cell_type": "code",
   "execution_count": 25,
   "metadata": {},
   "outputs": [
    {
     "name": "stdout",
     "output_type": "stream",
     "text": [
      "<class 'pandas.core.frame.DataFrame'>\n",
      "RangeIndex: 5571 entries, 0 to 5570\n",
      "Data columns (total 4 columns):\n",
      "0    5293 non-null object\n",
      "1    5289 non-null object\n",
      "2    5293 non-null object\n",
      "3    5289 non-null object\n",
      "dtypes: object(4)\n",
      "memory usage: 174.2+ KB\n"
     ]
    }
   ],
   "source": [
    "dff.info()"
   ]
  },
  {
   "cell_type": "code",
   "execution_count": 26,
   "metadata": {},
   "outputs": [
    {
     "name": "stdout",
     "output_type": "stream",
     "text": [
      "<class 'pandas.core.frame.DataFrame'>\n",
      "RangeIndex: 5571 entries, 0 to 5570\n",
      "Data columns (total 11 columns):\n",
      "0     5411 non-null object\n",
      "1     5568 non-null object\n",
      "2     5568 non-null object\n",
      "3     5568 non-null object\n",
      "4     5568 non-null object\n",
      "5     5568 non-null object\n",
      "6     5568 non-null object\n",
      "7     5568 non-null object\n",
      "8     5568 non-null object\n",
      "9     5568 non-null object\n",
      "10    5568 non-null object\n",
      "dtypes: object(11)\n",
      "memory usage: 478.8+ KB\n"
     ]
    }
   ],
   "source": [
    "dfg.info()"
   ]
  },
  {
   "cell_type": "code",
   "execution_count": 27,
   "metadata": {},
   "outputs": [
    {
     "name": "stdout",
     "output_type": "stream",
     "text": [
      "<class 'pandas.core.frame.DataFrame'>\n",
      "RangeIndex: 5571 entries, 0 to 5570\n",
      "Data columns (total 4 columns):\n",
      "0    5566 non-null object\n",
      "1    5552 non-null object\n",
      "2    5571 non-null object\n",
      "3    5571 non-null object\n",
      "dtypes: object(4)\n",
      "memory usage: 174.2+ KB\n"
     ]
    }
   ],
   "source": [
    "dfd.info()"
   ]
  },
  {
   "cell_type": "code",
   "execution_count": 28,
   "metadata": {},
   "outputs": [
    {
     "name": "stdout",
     "output_type": "stream",
     "text": [
      "<class 'pandas.core.frame.DataFrame'>\n",
      "Int64Index: 22284 entries, 0 to 5570\n",
      "Data columns (total 11 columns):\n",
      "0     21841 non-null object\n",
      "1     21980 non-null object\n",
      "2     22003 non-null object\n",
      "3     21999 non-null object\n",
      "4     9932 non-null object\n",
      "5     11046 non-null object\n",
      "6     10710 non-null object\n",
      "7     11024 non-null object\n",
      "8     11091 non-null object\n",
      "9     11091 non-null object\n",
      "10    5568 non-null object\n",
      "dtypes: object(11)\n",
      "memory usage: 2.0+ MB\n"
     ]
    }
   ],
   "source": [
    "df.info()"
   ]
  },
  {
   "cell_type": "code",
   "execution_count": 29,
   "metadata": {},
   "outputs": [
    {
     "data": {
      "text/plain": [
       "MG        853\n",
       "SP        645\n",
       "RS        497\n",
       "BA        417\n",
       "PR        399\n",
       "SC        295\n",
       "GO        246\n",
       "PI        224\n",
       "PB        223\n",
       "MA        217\n",
       "PE        185\n",
       "CE        184\n",
       "RN        167\n",
       "PA        144\n",
       "MT        141\n",
       "TO        139\n",
       "AL        102\n",
       "RJ         92\n",
       "MS         79\n",
       "ES         78\n",
       "SE         75\n",
       "AM         62\n",
       "RO         52\n",
       "AC         22\n",
       "AP         16\n",
       "RR         15\n",
       "DF          1\n",
       "Estado      1\n",
       "Name: 0, dtype: int64"
      ]
     },
     "execution_count": 29,
     "metadata": {},
     "output_type": "execute_result"
    }
   ],
   "source": [
    "# Municípios por UF:\n",
    "dfr[0].value_counts()"
   ]
  },
  {
   "cell_type": "code",
   "execution_count": 30,
   "metadata": {},
   "outputs": [
    {
     "data": {
      "text/html": [
       "<div>\n",
       "<style scoped>\n",
       "    .dataframe tbody tr th:only-of-type {\n",
       "        vertical-align: middle;\n",
       "    }\n",
       "\n",
       "    .dataframe tbody tr th {\n",
       "        vertical-align: top;\n",
       "    }\n",
       "\n",
       "    .dataframe thead th {\n",
       "        text-align: right;\n",
       "    }\n",
       "</style>\n",
       "<table border=\"1\" class=\"dataframe\">\n",
       "  <thead>\n",
       "    <tr style=\"text-align: right;\">\n",
       "      <th></th>\n",
       "      <th>0</th>\n",
       "      <th>1</th>\n",
       "      <th>2</th>\n",
       "      <th>3</th>\n",
       "      <th>4</th>\n",
       "      <th>5</th>\n",
       "      <th>6</th>\n",
       "      <th>7</th>\n",
       "      <th>8</th>\n",
       "      <th>9</th>\n",
       "    </tr>\n",
       "  </thead>\n",
       "  <tbody>\n",
       "    <tr>\n",
       "      <th>count</th>\n",
       "      <td>5571</td>\n",
       "      <td>5571</td>\n",
       "      <td>5571</td>\n",
       "      <td>5571</td>\n",
       "      <td>4364.0</td>\n",
       "      <td>5478.00000</td>\n",
       "      <td>5142.000000</td>\n",
       "      <td>5456.00000</td>\n",
       "      <td>5523.000000</td>\n",
       "      <td>5523.000000</td>\n",
       "    </tr>\n",
       "    <tr>\n",
       "      <th>unique</th>\n",
       "      <td>28</td>\n",
       "      <td>5291</td>\n",
       "      <td>5</td>\n",
       "      <td>5114</td>\n",
       "      <td>4299.0</td>\n",
       "      <td>5460.00000</td>\n",
       "      <td>5137.000000</td>\n",
       "      <td>5448.00000</td>\n",
       "      <td>557.000000</td>\n",
       "      <td>349.000000</td>\n",
       "    </tr>\n",
       "    <tr>\n",
       "      <th>top</th>\n",
       "      <td>MG</td>\n",
       "      <td>SAO DOMINGOS</td>\n",
       "      <td>Pequeno porte 1</td>\n",
       "      <td>7804</td>\n",
       "      <td>0.5</td>\n",
       "      <td>0.54409</td>\n",
       "      <td>0.160147</td>\n",
       "      <td>0.47411</td>\n",
       "      <td>0.850718</td>\n",
       "      <td>0.637231</td>\n",
       "    </tr>\n",
       "    <tr>\n",
       "      <th>freq</th>\n",
       "      <td>853</td>\n",
       "      <td>5</td>\n",
       "      <td>3810</td>\n",
       "      <td>4</td>\n",
       "      <td>27.0</td>\n",
       "      <td>2.00000</td>\n",
       "      <td>2.000000</td>\n",
       "      <td>2.00000</td>\n",
       "      <td>64.000000</td>\n",
       "      <td>43.000000</td>\n",
       "    </tr>\n",
       "  </tbody>\n",
       "</table>\n",
       "</div>"
      ],
      "text/plain": [
       "           0             1                2     3       4           5  \\\n",
       "count   5571          5571             5571  5571  4364.0  5478.00000   \n",
       "unique    28          5291                5  5114  4299.0  5460.00000   \n",
       "top       MG  SAO DOMINGOS  Pequeno porte 1  7804     0.5     0.54409   \n",
       "freq     853             5             3810     4    27.0     2.00000   \n",
       "\n",
       "                  6           7            8            9  \n",
       "count   5142.000000  5456.00000  5523.000000  5523.000000  \n",
       "unique  5137.000000  5448.00000   557.000000   349.000000  \n",
       "top        0.160147     0.47411     0.850718     0.637231  \n",
       "freq       2.000000     2.00000    64.000000    43.000000  "
      ]
     },
     "execution_count": 30,
     "metadata": {},
     "output_type": "execute_result"
    }
   ],
   "source": [
    "# Quantos municípios estão descritos?\n",
    "dfr.describe()"
   ]
  },
  {
   "cell_type": "code",
   "execution_count": 31,
   "metadata": {
    "scrolled": true
   },
   "outputs": [
    {
     "data": {
      "text/plain": [
       "<bound method Series.unique of 0                               Nome\n",
       "1              SAO BERNARDO DO CAMPO\n",
       "2                       ITAIPULANDIA\n",
       "3                            NITEROI\n",
       "4                         INDAIATUBA\n",
       "5                 BALNEARIO CAMBORIU\n",
       "6                         RIO DO SUL\n",
       "7                            GRAMADO\n",
       "8                      SAO SEBASTIAO\n",
       "9                     GAVIAO PEIXOTO\n",
       "10               SANTANA DE PARNAIBA\n",
       "11                      SANTA HELENA\n",
       "12                   CHAPADAO DO CEU\n",
       "13                    CARLOS BARBOSA\n",
       "14                            SANTOS\n",
       "15                         CONCORDIA\n",
       "16                          BLUMENAU\n",
       "17                           EXTREMA\n",
       "18                           JUNDIAI\n",
       "19                    BELO HORIZONTE\n",
       "20                          BARRETOS\n",
       "21                        PIRACICABA\n",
       "22                    ARROIO DO MEIO\n",
       "23                         SAO PAULO\n",
       "24                          BRASILIA\n",
       "25                         GARIBALDI\n",
       "26                           VITORIA\n",
       "27                   BENTO GONCALVES\n",
       "28                       VERANOPOLIS\n",
       "29                     CARAGUATATUBA\n",
       "                    ...             \n",
       "5541         PONTE ALTA DO BOM JESUS\n",
       "5542         PONTE ALTA DO TOCANTINS\n",
       "5543       PORTO ALEGRE DO TOCANTINS\n",
       "5544                     PRAIA NORTE\n",
       "5545              PRESIDENTE KENNEDY\n",
       "5546                          PUGMIL\n",
       "5547                   RECURSOLANDIA\n",
       "5548                       RIACHINHO\n",
       "5549                RIO DA CONCEICAO\n",
       "5550                    RIO DOS BOIS\n",
       "5551                         SAMPAIO\n",
       "5552                     SANDOLANDIA\n",
       "5553            SANTA FE DO ARAGUAIA\n",
       "5554        SANTA MARIA DO TOCANTINS\n",
       "5555         SANTA ROSA DO TOCANTINS\n",
       "5556       SANTA TEREZA DO TOCANTINS\n",
       "5557    SANTA TEREZINHA DO TOCANTINS\n",
       "5558          SAO FELIX DO TOCANTINS\n",
       "5559         SAO MIGUEL DO TOCANTINS\n",
       "5560       SAO SALVADOR DO TOCANTINS\n",
       "5561      SAO SEBASTIAO DO TOCANTINS\n",
       "5562       SAO VALERIO DA NATIVIDADE\n",
       "5563                    SILVANOPOLIS\n",
       "5564         SITIO NOVO DO TOCANTINS\n",
       "5565                        SUCUPIRA\n",
       "5566                      TAGUATINGA\n",
       "5567             TAIPAS DO TOCANTINS\n",
       "5568                         TALISMA\n",
       "5569                      TOCANTINIA\n",
       "5570                    WANDERLANDIA\n",
       "Name: 1, Length: 5571, dtype: object>"
      ]
     },
     "execution_count": 31,
     "metadata": {},
     "output_type": "execute_result"
    }
   ],
   "source": [
    "#Quais são:\n",
    "dfr[1].unique"
   ]
  },
  {
   "cell_type": "code",
   "execution_count": 32,
   "metadata": {},
   "outputs": [],
   "source": [
    "#dfr[4] = pd.to_numeric(dfr)"
   ]
  },
  {
   "cell_type": "code",
   "execution_count": 33,
   "metadata": {},
   "outputs": [
    {
     "ename": "TypeError",
     "evalue": "arg must be a list, tuple, 1-d array, or Series",
     "output_type": "error",
     "traceback": [
      "\u001b[1;31m---------------------------------------------------------------------------\u001b[0m",
      "\u001b[1;31mTypeError\u001b[0m                                 Traceback (most recent call last)",
      "\u001b[1;32m<ipython-input-33-71079cfd7845>\u001b[0m in \u001b[0;36m<module>\u001b[1;34m()\u001b[0m\n\u001b[1;32m----> 1\u001b[1;33m \u001b[0mdfr\u001b[0m\u001b[1;33m[\u001b[0m\u001b[0mdfr\u001b[0m\u001b[1;33m[\u001b[0m\u001b[1;36m4\u001b[0m\u001b[1;33m]\u001b[0m \u001b[1;33m!=\u001b[0m \u001b[1;33m(\u001b[0m\u001b[1;34m'NaN'\u001b[0m\u001b[1;32mor\u001b[0m\u001b[1;34m'Violência - 2017'\u001b[0m\u001b[1;33m)\u001b[0m\u001b[1;33m]\u001b[0m \u001b[1;33m=\u001b[0m \u001b[0mpd\u001b[0m\u001b[1;33m.\u001b[0m\u001b[0mto_numeric\u001b[0m\u001b[1;33m(\u001b[0m\u001b[0mdfr\u001b[0m\u001b[1;33m,\u001b[0m \u001b[0merrors\u001b[0m\u001b[1;33m=\u001b[0m\u001b[1;34m'coerce'\u001b[0m\u001b[1;33m)\u001b[0m\u001b[1;33m\u001b[0m\u001b[0m\n\u001b[0m",
      "\u001b[1;32m~\\Anaconda3\\lib\\site-packages\\pandas\\core\\tools\\numeric.py\u001b[0m in \u001b[0;36mto_numeric\u001b[1;34m(arg, errors, downcast)\u001b[0m\n\u001b[0;32m    118\u001b[0m         \u001b[0mvalues\u001b[0m \u001b[1;33m=\u001b[0m \u001b[0mnp\u001b[0m\u001b[1;33m.\u001b[0m\u001b[0marray\u001b[0m\u001b[1;33m(\u001b[0m\u001b[1;33m[\u001b[0m\u001b[0marg\u001b[0m\u001b[1;33m]\u001b[0m\u001b[1;33m,\u001b[0m \u001b[0mdtype\u001b[0m\u001b[1;33m=\u001b[0m\u001b[1;34m'O'\u001b[0m\u001b[1;33m)\u001b[0m\u001b[1;33m\u001b[0m\u001b[0m\n\u001b[0;32m    119\u001b[0m     \u001b[1;32melif\u001b[0m \u001b[0mgetattr\u001b[0m\u001b[1;33m(\u001b[0m\u001b[0marg\u001b[0m\u001b[1;33m,\u001b[0m \u001b[1;34m'ndim'\u001b[0m\u001b[1;33m,\u001b[0m \u001b[1;36m1\u001b[0m\u001b[1;33m)\u001b[0m \u001b[1;33m>\u001b[0m \u001b[1;36m1\u001b[0m\u001b[1;33m:\u001b[0m\u001b[1;33m\u001b[0m\u001b[0m\n\u001b[1;32m--> 120\u001b[1;33m         \u001b[1;32mraise\u001b[0m \u001b[0mTypeError\u001b[0m\u001b[1;33m(\u001b[0m\u001b[1;34m'arg must be a list, tuple, 1-d array, or Series'\u001b[0m\u001b[1;33m)\u001b[0m\u001b[1;33m\u001b[0m\u001b[0m\n\u001b[0m\u001b[0;32m    121\u001b[0m     \u001b[1;32melse\u001b[0m\u001b[1;33m:\u001b[0m\u001b[1;33m\u001b[0m\u001b[0m\n\u001b[0;32m    122\u001b[0m         \u001b[0mvalues\u001b[0m \u001b[1;33m=\u001b[0m \u001b[0marg\u001b[0m\u001b[1;33m\u001b[0m\u001b[0m\n",
      "\u001b[1;31mTypeError\u001b[0m: arg must be a list, tuple, 1-d array, or Series"
     ]
    }
   ],
   "source": [
    "#dfr[dfr[4] != ('NaN'or'Violência - 2017')] = pd.to_numeric(dfr, errors='coerce')"
   ]
  },
  {
   "cell_type": "code",
   "execution_count": null,
   "metadata": {},
   "outputs": [],
   "source": []
  },
  {
   "cell_type": "code",
   "execution_count": null,
   "metadata": {},
   "outputs": [],
   "source": [
    "# Qual município mais violento em 2017?\n",
    "\n",
    "#dfr[dfr[4] != 'NaN'.max()]\n",
    "\n",
    "#dfr[dfr[dfr[4] != 'NaN'] == df[4].max()]"
   ]
  },
  {
   "cell_type": "code",
   "execution_count": null,
   "metadata": {},
   "outputs": [],
   "source": [
    "# Cidades com piores índices de educação e atendimento médico?"
   ]
  },
  {
   "cell_type": "code",
   "execution_count": null,
   "metadata": {},
   "outputs": [],
   "source": [
    "# Quais os índices de abandono escolar destes municípios vistos anteriormente?"
   ]
  },
  {
   "cell_type": "code",
   "execution_count": null,
   "metadata": {},
   "outputs": [],
   "source": [
    "# Ainda sobre aqueles municípios, quais as despesas com educação deles?"
   ]
  },
  {
   "cell_type": "code",
   "execution_count": null,
   "metadata": {},
   "outputs": [],
   "source": [
    "# Quais dessas cidades possuem incentivo a cultura?"
   ]
  },
  {
   "cell_type": "code",
   "execution_count": null,
   "metadata": {},
   "outputs": [],
   "source": []
  },
  {
   "cell_type": "code",
   "execution_count": null,
   "metadata": {},
   "outputs": [],
   "source": []
  },
  {
   "cell_type": "code",
   "execution_count": null,
   "metadata": {},
   "outputs": [],
   "source": []
  },
  {
   "cell_type": "code",
   "execution_count": null,
   "metadata": {},
   "outputs": [],
   "source": []
  }
 ],
 "metadata": {
  "kernelspec": {
   "display_name": "Python 3",
   "language": "python",
   "name": "python3"
  },
  "language_info": {
   "codemirror_mode": {
    "name": "ipython",
    "version": 3
   },
   "file_extension": ".py",
   "mimetype": "text/x-python",
   "name": "python",
   "nbconvert_exporter": "python",
   "pygments_lexer": "ipython3",
   "version": "3.7.0"
  }
 },
 "nbformat": 4,
 "nbformat_minor": 2
}
